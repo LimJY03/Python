{
 "cells": [
  {
   "cell_type": "markdown",
   "id": "15beaa0e",
   "metadata": {
    "papermill": {
     "duration": 0.024822,
     "end_time": "2022-05-16T23:47:59.839204",
     "exception": false,
     "start_time": "2022-05-16T23:47:59.814382",
     "status": "completed"
    },
    "tags": []
   },
   "source": [
    "This course covers the key Python skills you’ll need so you can start using Python for data science. The course is ideal for someone with some previous coding experience who wants to add Python to their repertoire. (If you're a first-time coder, you are encouraged to check out our [Intro to Programming course](https://www.kaggle.com/learn/intro-to-programming), which is designed for complete beginners who would like to get started with Python.)\n",
    "\n",
    "We'll start with a brief overview of Python syntax, variable assignment, and arithmetic operators. "
   ]
  },
  {
   "cell_type": "markdown",
   "id": "586563ec",
   "metadata": {
    "papermill": {
     "duration": 0.024375,
     "end_time": "2022-05-16T23:47:59.886846",
     "exception": false,
     "start_time": "2022-05-16T23:47:59.862471",
     "status": "completed"
    },
    "tags": []
   },
   "source": [
    "# Hello, Python!\n",
    "\n",
    "Python was named for the British comedy troupe [Monty Python](https://en.wikipedia.org/wiki/Monty_Python), so we'll make our first Python program a homage to their skit about [Spam](https://en.wikipedia.org/wiki/Spam_(food)).\n",
    "\n",
    "Just for fun, try reading over the code below and predicting what it's going to do when run. (If you have no idea, that's fine!)\n",
    "\n",
    "Then click the \"output\" button to see the results of our program."
   ]
  },
  {
   "cell_type": "code",
   "execution_count": 1,
   "id": "742b7106",
   "metadata": {
    "_kg_hide-output": true,
    "execution": {
     "iopub.execute_input": "2022-05-16T23:47:59.936593Z",
     "iopub.status.busy": "2022-05-16T23:47:59.936161Z",
     "iopub.status.idle": "2022-05-16T23:47:59.947956Z",
     "shell.execute_reply": "2022-05-16T23:47:59.947153Z"
    },
    "papermill": {
     "duration": 0.039403,
     "end_time": "2022-05-16T23:47:59.950068",
     "exception": false,
     "start_time": "2022-05-16T23:47:59.910665",
     "status": "completed"
    },
    "tags": []
   },
   "outputs": [
    {
     "name": "stdout",
     "output_type": "stream",
     "text": [
      "0\n",
      "But I don't want ANY spam!\n",
      "Spam Spam Spam Spam \n"
     ]
    }
   ],
   "source": [
    "spam_amount = 0\n",
    "print(spam_amount)\n",
    "\n",
    "# Ordering Spam, egg, Spam, Spam, bacon and Spam (4 more servings of Spam)\n",
    "spam_amount = spam_amount + 4\n",
    "\n",
    "if spam_amount > 0:\n",
    "    print(\"But I don't want ANY spam!\")\n",
    "\n",
    "viking_song = \"Spam \" * spam_amount\n",
    "print(viking_song)"
   ]
  },
  {
   "cell_type": "markdown",
   "id": "c769f1ac",
   "metadata": {
    "papermill": {
     "duration": 0.025283,
     "end_time": "2022-05-16T23:47:59.998563",
     "exception": false,
     "start_time": "2022-05-16T23:47:59.973280",
     "status": "completed"
    },
    "tags": []
   },
   "source": [
    "There's a lot to unpack here! This silly program demonstrates many important aspects of what Python code looks like and how it works. Let's review the code from top to bottom."
   ]
  },
  {
   "cell_type": "code",
   "execution_count": 2,
   "id": "e146f473",
   "metadata": {
    "collapsed": true,
    "execution": {
     "iopub.execute_input": "2022-05-16T23:48:00.053005Z",
     "iopub.status.busy": "2022-05-16T23:48:00.052721Z",
     "iopub.status.idle": "2022-05-16T23:48:00.056852Z",
     "shell.execute_reply": "2022-05-16T23:48:00.055748Z"
    },
    "papermill": {
     "duration": 0.036073,
     "end_time": "2022-05-16T23:48:00.059115",
     "exception": false,
     "start_time": "2022-05-16T23:48:00.023042",
     "status": "completed"
    },
    "tags": []
   },
   "outputs": [],
   "source": [
    "spam_amount = 0"
   ]
  },
  {
   "cell_type": "markdown",
   "id": "52b4d7d8",
   "metadata": {
    "papermill": {
     "duration": 0.02522,
     "end_time": "2022-05-16T23:48:00.108397",
     "exception": false,
     "start_time": "2022-05-16T23:48:00.083177",
     "status": "completed"
    },
    "tags": []
   },
   "source": [
    "**Variable assignment:** Here we create a variable called `spam_amount` and assign it the value of 0 using `=`, which is called the assignment operator.\n",
    "\n",
    "> **Note**: If you've programmed in certain other languages (like Java or C++), you might be noticing some things Python *doesn't* require us to do here:  \n",
    "- we don't need to \"declare\" `spam_amount` before assigning to it\n",
    "- we don't need to tell Python what type of value `spam_amount` is going to refer to. In fact, we can even go on to reassign `spam_amount` to refer to a different sort of thing like a string or a boolean."
   ]
  },
  {
   "cell_type": "code",
   "execution_count": 3,
   "id": "351aaae2",
   "metadata": {
    "_kg_hide-output": false,
    "collapsed": true,
    "execution": {
     "iopub.execute_input": "2022-05-16T23:48:00.158425Z",
     "iopub.status.busy": "2022-05-16T23:48:00.158099Z",
     "iopub.status.idle": "2022-05-16T23:48:00.162909Z",
     "shell.execute_reply": "2022-05-16T23:48:00.161763Z"
    },
    "papermill": {
     "duration": 0.030681,
     "end_time": "2022-05-16T23:48:00.165028",
     "exception": false,
     "start_time": "2022-05-16T23:48:00.134347",
     "status": "completed"
    },
    "tags": []
   },
   "outputs": [
    {
     "name": "stdout",
     "output_type": "stream",
     "text": [
      "0\n"
     ]
    }
   ],
   "source": [
    "print(spam_amount)"
   ]
  },
  {
   "cell_type": "markdown",
   "id": "7ca83bab",
   "metadata": {
    "papermill": {
     "duration": 0.025647,
     "end_time": "2022-05-16T23:48:00.214791",
     "exception": false,
     "start_time": "2022-05-16T23:48:00.189144",
     "status": "completed"
    },
    "tags": []
   },
   "source": [
    "**Function calls:**. `print` is a Python function that displays the value passed to it on the screen. We call functions by putting parentheses after their name, and putting the inputs (or *arguments*) to the function in those parentheses."
   ]
  },
  {
   "cell_type": "code",
   "execution_count": 4,
   "id": "72d1d5ee",
   "metadata": {
    "_kg_hide-output": false,
    "collapsed": true,
    "execution": {
     "iopub.execute_input": "2022-05-16T23:48:00.265986Z",
     "iopub.status.busy": "2022-05-16T23:48:00.265665Z",
     "iopub.status.idle": "2022-05-16T23:48:00.270929Z",
     "shell.execute_reply": "2022-05-16T23:48:00.269815Z"
    },
    "papermill": {
     "duration": 0.034487,
     "end_time": "2022-05-16T23:48:00.273792",
     "exception": false,
     "start_time": "2022-05-16T23:48:00.239305",
     "status": "completed"
    },
    "tags": []
   },
   "outputs": [],
   "source": [
    "# Ordering Spam, egg, Spam, Spam, bacon and Spam (4 more servings of Spam)\n",
    "spam_amount = spam_amount + 4"
   ]
  },
  {
   "cell_type": "markdown",
   "id": "55490759",
   "metadata": {
    "papermill": {
     "duration": 0.029148,
     "end_time": "2022-05-16T23:48:00.328255",
     "exception": false,
     "start_time": "2022-05-16T23:48:00.299107",
     "status": "completed"
    },
    "tags": []
   },
   "source": [
    "The first line above is a **comment**. In Python, comments begin with the `#` symbol.\n",
    "\n",
    "Next we see an example of reassignment. Reassigning the value of an existing variable looks just the same as creating a variable - it still uses the `=` assignment operator.\n",
    "\n",
    "In this case, the value we're assigning to `spam_amount` involves some simple arithmetic on its previous value. When it encounters this line, Python evaluates the expression on the right-hand-side of the `=` (0 + 4 = 4), and then assigns that value to the variable on the left-hand-side."
   ]
  },
  {
   "cell_type": "code",
   "execution_count": 5,
   "id": "5fabae59",
   "metadata": {
    "_kg_hide-output": false,
    "collapsed": true,
    "execution": {
     "iopub.execute_input": "2022-05-16T23:48:00.380441Z",
     "iopub.status.busy": "2022-05-16T23:48:00.379387Z",
     "iopub.status.idle": "2022-05-16T23:48:00.386412Z",
     "shell.execute_reply": "2022-05-16T23:48:00.384917Z"
    },
    "papermill": {
     "duration": 0.035532,
     "end_time": "2022-05-16T23:48:00.388775",
     "exception": false,
     "start_time": "2022-05-16T23:48:00.353243",
     "status": "completed"
    },
    "tags": []
   },
   "outputs": [
    {
     "name": "stdout",
     "output_type": "stream",
     "text": [
      "But I don't want ANY spam!\n",
      "Spam Spam Spam\n"
     ]
    }
   ],
   "source": [
    "if spam_amount > 0:\n",
    "    print(\"But I don't want ANY spam!\")\n",
    "\n",
    "viking_song = \"Spam Spam Spam\"\n",
    "print(viking_song)"
   ]
  },
  {
   "cell_type": "markdown",
   "id": "372e5fe5",
   "metadata": {
    "papermill": {
     "duration": 0.023877,
     "end_time": "2022-05-16T23:48:00.438031",
     "exception": false,
     "start_time": "2022-05-16T23:48:00.414154",
     "status": "completed"
    },
    "tags": []
   },
   "source": [
    "We won't talk much about \"conditionals\" until later, but, even if you've never coded before, you can probably guess what this does. Python is prized for its readability and the simplicity. \n",
    "\n",
    "Note how we indicated which code belongs to the `if`. `\"But I don't want ANY spam!\"` is only supposed to be printed if `spam_amount` is positive. But the later code (like `print(viking_song)`) should be executed no matter what. How do we (and Python) know that?\n",
    "\n",
    "The colon (`:`) at the end of the `if` line indicates that a new **code block** is starting. Subsequent lines which are indented are part of that code block. \n",
    "> **Note**: If you've coded before, you might know that some other languages use `{`curly braces`}` to mark the beginning and end of code blocks. Python's use of meaningful whitespace can be surprising to programmers who are accustomed to other languages, but in practice it can lead to more consistent and readable code than languages that do not enforce indentation of code blocks. \n",
    "\n",
    "The later lines dealing with `viking_song` are not indented with an extra 4 spaces, so they're not a part of the `if`'s code block. We'll see more examples of indented code blocks later when we define functions and using loops.\n",
    "\n",
    "This code snippet is also our first sighting of a **string** in Python:\n",
    "\n",
    "```python\n",
    "\"But I don't want ANY spam!\"\n",
    "```\n",
    "\n",
    "Strings can be marked either by double or single quotation marks. (But because this particular string *contains* a single-quote character, we might confuse Python by trying to surround it with single-quotes, unless we're careful.)"
   ]
  },
  {
   "cell_type": "code",
   "execution_count": 6,
   "id": "45b012fb",
   "metadata": {
    "_kg_hide-output": false,
    "collapsed": true,
    "execution": {
     "iopub.execute_input": "2022-05-16T23:48:00.489241Z",
     "iopub.status.busy": "2022-05-16T23:48:00.488947Z",
     "iopub.status.idle": "2022-05-16T23:48:00.493646Z",
     "shell.execute_reply": "2022-05-16T23:48:00.492974Z"
    },
    "papermill": {
     "duration": 0.032688,
     "end_time": "2022-05-16T23:48:00.495686",
     "exception": false,
     "start_time": "2022-05-16T23:48:00.462998",
     "status": "completed"
    },
    "tags": []
   },
   "outputs": [
    {
     "name": "stdout",
     "output_type": "stream",
     "text": [
      "Spam Spam Spam Spam \n"
     ]
    }
   ],
   "source": [
    "viking_song = \"Spam \" * spam_amount\n",
    "print(viking_song)"
   ]
  },
  {
   "cell_type": "markdown",
   "id": "f42ba5f2",
   "metadata": {
    "papermill": {
     "duration": 0.024875,
     "end_time": "2022-05-16T23:48:00.547558",
     "exception": false,
     "start_time": "2022-05-16T23:48:00.522683",
     "status": "completed"
    },
    "tags": []
   },
   "source": [
    "The `*` operator can be used to multiply two numbers (`3 * 3` evaluates to 9), but we can also multiply a string by a number, to get a version that's been repeated that many times. Python offers a number of cheeky little time-saving tricks like this where operators like `*` and `+` have a different meaning depending on what kind of thing they're applied to. (The technical term for this is [operator overloading](https://en.wikipedia.org/wiki/Operator_overloading).)"
   ]
  },
  {
   "cell_type": "markdown",
   "id": "47f0daa7",
   "metadata": {
    "papermill": {
     "duration": 0.027021,
     "end_time": "2022-05-16T23:48:00.601243",
     "exception": false,
     "start_time": "2022-05-16T23:48:00.574222",
     "status": "completed"
    },
    "tags": []
   },
   "source": [
    "## Numbers and arithmetic in Python\n",
    "\n",
    "We've already seen an example of a variable containing a number above:"
   ]
  },
  {
   "cell_type": "code",
   "execution_count": 7,
   "id": "3f3b3637",
   "metadata": {
    "collapsed": true,
    "execution": {
     "iopub.execute_input": "2022-05-16T23:48:00.653642Z",
     "iopub.status.busy": "2022-05-16T23:48:00.653357Z",
     "iopub.status.idle": "2022-05-16T23:48:00.656954Z",
     "shell.execute_reply": "2022-05-16T23:48:00.656214Z"
    },
    "papermill": {
     "duration": 0.031669,
     "end_time": "2022-05-16T23:48:00.658931",
     "exception": false,
     "start_time": "2022-05-16T23:48:00.627262",
     "status": "completed"
    },
    "tags": []
   },
   "outputs": [],
   "source": [
    "spam_amount = 0"
   ]
  },
  {
   "cell_type": "markdown",
   "id": "84acdbc9",
   "metadata": {
    "papermill": {
     "duration": 0.025738,
     "end_time": "2022-05-16T23:48:00.712551",
     "exception": false,
     "start_time": "2022-05-16T23:48:00.686813",
     "status": "completed"
    },
    "tags": []
   },
   "source": [
    "\"Number\" is a fine informal name for the kind of thing, but if we wanted to be more technical, we could ask Python how it would describe the type of thing that `spam_amount` is:"
   ]
  },
  {
   "cell_type": "code",
   "execution_count": 8,
   "id": "1afe9fb8",
   "metadata": {
    "collapsed": true,
    "execution": {
     "iopub.execute_input": "2022-05-16T23:48:00.769812Z",
     "iopub.status.busy": "2022-05-16T23:48:00.769180Z",
     "iopub.status.idle": "2022-05-16T23:48:00.776605Z",
     "shell.execute_reply": "2022-05-16T23:48:00.775743Z"
    },
    "papermill": {
     "duration": 0.036619,
     "end_time": "2022-05-16T23:48:00.778764",
     "exception": false,
     "start_time": "2022-05-16T23:48:00.742145",
     "status": "completed"
    },
    "tags": []
   },
   "outputs": [
    {
     "data": {
      "text/plain": [
       "int"
      ]
     },
     "execution_count": 8,
     "metadata": {},
     "output_type": "execute_result"
    }
   ],
   "source": [
    "type(spam_amount)"
   ]
  },
  {
   "cell_type": "markdown",
   "id": "25adf828",
   "metadata": {
    "papermill": {
     "duration": 0.027721,
     "end_time": "2022-05-16T23:48:00.831354",
     "exception": false,
     "start_time": "2022-05-16T23:48:00.803633",
     "status": "completed"
    },
    "tags": []
   },
   "source": [
    "It's an `int` - short for integer. There's another sort of number we commonly encounter in Python:"
   ]
  },
  {
   "cell_type": "code",
   "execution_count": 9,
   "id": "e354f2f6",
   "metadata": {
    "collapsed": true,
    "execution": {
     "iopub.execute_input": "2022-05-16T23:48:00.886704Z",
     "iopub.status.busy": "2022-05-16T23:48:00.885918Z",
     "iopub.status.idle": "2022-05-16T23:48:00.891120Z",
     "shell.execute_reply": "2022-05-16T23:48:00.890421Z"
    },
    "papermill": {
     "duration": 0.034677,
     "end_time": "2022-05-16T23:48:00.893056",
     "exception": false,
     "start_time": "2022-05-16T23:48:00.858379",
     "status": "completed"
    },
    "tags": []
   },
   "outputs": [
    {
     "data": {
      "text/plain": [
       "float"
      ]
     },
     "execution_count": 9,
     "metadata": {},
     "output_type": "execute_result"
    }
   ],
   "source": [
    "type(19.95)"
   ]
  },
  {
   "cell_type": "markdown",
   "id": "cbcb58a6",
   "metadata": {
    "papermill": {
     "duration": 0.02648,
     "end_time": "2022-05-16T23:48:00.945040",
     "exception": false,
     "start_time": "2022-05-16T23:48:00.918560",
     "status": "completed"
    },
    "tags": []
   },
   "source": [
    "A `float` is a number with a decimal place - very useful for representing things like weights or proportions.\n",
    "\n",
    "`type()` is the second built-in function we've seen (after `print()`), and it's another good one to remember. It's very useful to be able to ask Python \"what kind of thing is this?\". "
   ]
  },
  {
   "cell_type": "markdown",
   "id": "ad67882a",
   "metadata": {
    "papermill": {
     "duration": 0.025872,
     "end_time": "2022-05-16T23:48:00.996779",
     "exception": false,
     "start_time": "2022-05-16T23:48:00.970907",
     "status": "completed"
    },
    "tags": []
   },
   "source": [
    "A natural thing to want to do with numbers is perform arithmetic. We've seen the `+` operator for addition, and the `*` operator for multiplication. Python also has us covered for the rest of the basic buttons on your calculator:\n",
    "\n",
    "| Operator     | Name           | Description                                            |\n",
    "|--------------|----------------|--------------------------------------------------------|\n",
    "| ``a + b``    | Addition       | Sum of ``a`` and ``b``                                 |\n",
    "| ``a - b``    | Subtraction    | Difference of ``a`` and ``b``                          |\n",
    "| ``a * b``    | Multiplication | Product of ``a`` and ``b``                             |\n",
    "| ``a / b``    | True division  | Quotient of ``a`` and ``b``                            |\n",
    "| ``a // b``   | Floor division | Quotient of ``a`` and ``b``, removing fractional parts |\n",
    "| ``a % b``    | Modulus        | Integer remainder after division of ``a`` by ``b``     |\n",
    "| ``a ** b``   | Exponentiation | ``a`` raised to the power of ``b``                     |\n",
    "| ``-a``       | Negation       | The negative of ``a``                                  |\n",
    "\n",
    "<span style=\"display:none\"></span>\n",
    "\n",
    "One interesting observation here is that, whereas your calculator probably just has one button for division, Python can do two kinds. \"True division\" is basically what your calculator does:"
   ]
  },
  {
   "cell_type": "code",
   "execution_count": 10,
   "id": "6fb075ca",
   "metadata": {
    "collapsed": true,
    "execution": {
     "iopub.execute_input": "2022-05-16T23:48:01.054098Z",
     "iopub.status.busy": "2022-05-16T23:48:01.053583Z",
     "iopub.status.idle": "2022-05-16T23:48:01.058338Z",
     "shell.execute_reply": "2022-05-16T23:48:01.057465Z"
    },
    "papermill": {
     "duration": 0.034471,
     "end_time": "2022-05-16T23:48:01.060216",
     "exception": false,
     "start_time": "2022-05-16T23:48:01.025745",
     "status": "completed"
    },
    "tags": []
   },
   "outputs": [
    {
     "name": "stdout",
     "output_type": "stream",
     "text": [
      "2.5\n",
      "3.0\n"
     ]
    }
   ],
   "source": [
    "print(5 / 2)\n",
    "print(6 / 2)"
   ]
  },
  {
   "cell_type": "markdown",
   "id": "5b08aa8e",
   "metadata": {
    "papermill": {
     "duration": 0.027416,
     "end_time": "2022-05-16T23:48:01.114217",
     "exception": false,
     "start_time": "2022-05-16T23:48:01.086801",
     "status": "completed"
    },
    "tags": []
   },
   "source": [
    "It always gives us a `float`. \n",
    "\n",
    "The `//` operator gives us a result that's rounded down to the next integer."
   ]
  },
  {
   "cell_type": "code",
   "execution_count": 11,
   "id": "3f335edf",
   "metadata": {
    "collapsed": true,
    "execution": {
     "iopub.execute_input": "2022-05-16T23:48:01.174010Z",
     "iopub.status.busy": "2022-05-16T23:48:01.173472Z",
     "iopub.status.idle": "2022-05-16T23:48:01.178466Z",
     "shell.execute_reply": "2022-05-16T23:48:01.177743Z"
    },
    "papermill": {
     "duration": 0.03471,
     "end_time": "2022-05-16T23:48:01.180598",
     "exception": false,
     "start_time": "2022-05-16T23:48:01.145888",
     "status": "completed"
    },
    "tags": []
   },
   "outputs": [
    {
     "name": "stdout",
     "output_type": "stream",
     "text": [
      "2\n",
      "3\n"
     ]
    }
   ],
   "source": [
    "print(5 // 2)\n",
    "print(6 // 2)"
   ]
  },
  {
   "cell_type": "markdown",
   "id": "4825dca6",
   "metadata": {
    "papermill": {
     "duration": 0.025887,
     "end_time": "2022-05-16T23:48:01.235612",
     "exception": false,
     "start_time": "2022-05-16T23:48:01.209725",
     "status": "completed"
    },
    "tags": []
   },
   "source": [
    "Can you think of where this would be useful? You'll see an example soon in the coding challenges."
   ]
  },
  {
   "cell_type": "markdown",
   "id": "3cf4975a",
   "metadata": {
    "papermill": {
     "duration": 0.025249,
     "end_time": "2022-05-16T23:48:01.287695",
     "exception": false,
     "start_time": "2022-05-16T23:48:01.262446",
     "status": "completed"
    },
    "tags": []
   },
   "source": [
    "### Order of operations\n",
    "\n",
    "The arithmetic we learned in primary school has conventions about the order in which operations are evaluated. Some remember these by a mnemonic such as **PEMDAS** - **P**arentheses, **E**xponents, **M**ultiplication/**D**ivision, **A**ddition/**S**ubtraction.\n",
    "\n",
    "Python follows similar rules about which calculations to perform first. They're mostly pretty intuitive."
   ]
  },
  {
   "cell_type": "code",
   "execution_count": 12,
   "id": "51c7c34b",
   "metadata": {
    "collapsed": true,
    "execution": {
     "iopub.execute_input": "2022-05-16T23:48:01.341084Z",
     "iopub.status.busy": "2022-05-16T23:48:01.340577Z",
     "iopub.status.idle": "2022-05-16T23:48:01.345664Z",
     "shell.execute_reply": "2022-05-16T23:48:01.344844Z"
    },
    "papermill": {
     "duration": 0.033544,
     "end_time": "2022-05-16T23:48:01.347433",
     "exception": false,
     "start_time": "2022-05-16T23:48:01.313889",
     "status": "completed"
    },
    "tags": []
   },
   "outputs": [
    {
     "data": {
      "text/plain": [
       "7"
      ]
     },
     "execution_count": 12,
     "metadata": {},
     "output_type": "execute_result"
    }
   ],
   "source": [
    "8 - 3 + 2"
   ]
  },
  {
   "cell_type": "code",
   "execution_count": 13,
   "id": "ef9148dc",
   "metadata": {
    "collapsed": true,
    "execution": {
     "iopub.execute_input": "2022-05-16T23:48:01.407221Z",
     "iopub.status.busy": "2022-05-16T23:48:01.406716Z",
     "iopub.status.idle": "2022-05-16T23:48:01.412777Z",
     "shell.execute_reply": "2022-05-16T23:48:01.411784Z"
    },
    "papermill": {
     "duration": 0.038988,
     "end_time": "2022-05-16T23:48:01.414678",
     "exception": false,
     "start_time": "2022-05-16T23:48:01.375690",
     "status": "completed"
    },
    "tags": []
   },
   "outputs": [
    {
     "data": {
      "text/plain": [
       "5"
      ]
     },
     "execution_count": 13,
     "metadata": {},
     "output_type": "execute_result"
    }
   ],
   "source": [
    "-3 + 4 * 2"
   ]
  },
  {
   "cell_type": "markdown",
   "id": "0f28e961",
   "metadata": {
    "papermill": {
     "duration": 0.026122,
     "end_time": "2022-05-16T23:48:01.466926",
     "exception": false,
     "start_time": "2022-05-16T23:48:01.440804",
     "status": "completed"
    },
    "tags": []
   },
   "source": [
    "Sometimes the default order of operations isn't what we want:"
   ]
  },
  {
   "cell_type": "code",
   "execution_count": 14,
   "id": "0210f6e1",
   "metadata": {
    "collapsed": true,
    "execution": {
     "iopub.execute_input": "2022-05-16T23:48:01.521257Z",
     "iopub.status.busy": "2022-05-16T23:48:01.520759Z",
     "iopub.status.idle": "2022-05-16T23:48:01.525701Z",
     "shell.execute_reply": "2022-05-16T23:48:01.524964Z"
    },
    "papermill": {
     "duration": 0.034087,
     "end_time": "2022-05-16T23:48:01.527454",
     "exception": false,
     "start_time": "2022-05-16T23:48:01.493367",
     "status": "completed"
    },
    "tags": []
   },
   "outputs": [
    {
     "name": "stdout",
     "output_type": "stream",
     "text": [
      "Height in meters = 26.9 ?\n"
     ]
    }
   ],
   "source": [
    "hat_height_cm = 25\n",
    "my_height_cm = 190\n",
    "# How tall am I, in meters, when wearing my hat?\n",
    "total_height_meters = hat_height_cm + my_height_cm / 100\n",
    "print(\"Height in meters =\", total_height_meters, \"?\")"
   ]
  },
  {
   "cell_type": "markdown",
   "id": "8bdd82cf",
   "metadata": {
    "papermill": {
     "duration": 0.026289,
     "end_time": "2022-05-16T23:48:01.580889",
     "exception": false,
     "start_time": "2022-05-16T23:48:01.554600",
     "status": "completed"
    },
    "tags": []
   },
   "source": [
    "Parentheses are useful here. You can add them to force Python to evaluate sub-expressions in whatever order you want."
   ]
  },
  {
   "cell_type": "code",
   "execution_count": 15,
   "id": "767ab872",
   "metadata": {
    "collapsed": true,
    "execution": {
     "iopub.execute_input": "2022-05-16T23:48:01.636333Z",
     "iopub.status.busy": "2022-05-16T23:48:01.635800Z",
     "iopub.status.idle": "2022-05-16T23:48:01.640510Z",
     "shell.execute_reply": "2022-05-16T23:48:01.639449Z"
    },
    "papermill": {
     "duration": 0.034493,
     "end_time": "2022-05-16T23:48:01.642234",
     "exception": false,
     "start_time": "2022-05-16T23:48:01.607741",
     "status": "completed"
    },
    "tags": []
   },
   "outputs": [
    {
     "name": "stdout",
     "output_type": "stream",
     "text": [
      "Height in meters = 2.15\n"
     ]
    }
   ],
   "source": [
    "total_height_meters = (hat_height_cm + my_height_cm) / 100\n",
    "print(\"Height in meters =\", total_height_meters)"
   ]
  },
  {
   "cell_type": "markdown",
   "id": "bdd1a05b",
   "metadata": {
    "papermill": {
     "duration": 0.026425,
     "end_time": "2022-05-16T23:48:01.695612",
     "exception": false,
     "start_time": "2022-05-16T23:48:01.669187",
     "status": "completed"
    },
    "tags": []
   },
   "source": [
    "### Builtin functions for working with numbers\n",
    "\n",
    "`min` and `max` return the minimum and maximum of their arguments, respectively..."
   ]
  },
  {
   "cell_type": "code",
   "execution_count": 16,
   "id": "f89d6742",
   "metadata": {
    "collapsed": true,
    "execution": {
     "iopub.execute_input": "2022-05-16T23:48:01.752951Z",
     "iopub.status.busy": "2022-05-16T23:48:01.752417Z",
     "iopub.status.idle": "2022-05-16T23:48:01.757008Z",
     "shell.execute_reply": "2022-05-16T23:48:01.756167Z"
    },
    "papermill": {
     "duration": 0.035795,
     "end_time": "2022-05-16T23:48:01.758746",
     "exception": false,
     "start_time": "2022-05-16T23:48:01.722951",
     "status": "completed"
    },
    "tags": []
   },
   "outputs": [
    {
     "name": "stdout",
     "output_type": "stream",
     "text": [
      "1\n",
      "3\n"
     ]
    }
   ],
   "source": [
    "print(min(1, 2, 3))\n",
    "print(max(1, 2, 3))"
   ]
  },
  {
   "cell_type": "markdown",
   "id": "f75c4246",
   "metadata": {
    "papermill": {
     "duration": 0.029706,
     "end_time": "2022-05-16T23:48:01.817657",
     "exception": false,
     "start_time": "2022-05-16T23:48:01.787951",
     "status": "completed"
    },
    "tags": []
   },
   "source": [
    "`abs` returns the absolute value of an argument:"
   ]
  },
  {
   "cell_type": "code",
   "execution_count": 17,
   "id": "393d4aa3",
   "metadata": {
    "collapsed": true,
    "execution": {
     "iopub.execute_input": "2022-05-16T23:48:01.874904Z",
     "iopub.status.busy": "2022-05-16T23:48:01.874392Z",
     "iopub.status.idle": "2022-05-16T23:48:01.878921Z",
     "shell.execute_reply": "2022-05-16T23:48:01.878058Z"
    },
    "papermill": {
     "duration": 0.03562,
     "end_time": "2022-05-16T23:48:01.880845",
     "exception": false,
     "start_time": "2022-05-16T23:48:01.845225",
     "status": "completed"
    },
    "tags": []
   },
   "outputs": [
    {
     "name": "stdout",
     "output_type": "stream",
     "text": [
      "32\n",
      "32\n"
     ]
    }
   ],
   "source": [
    "print(abs(32))\n",
    "print(abs(-32))"
   ]
  },
  {
   "cell_type": "markdown",
   "id": "8935daed",
   "metadata": {
    "papermill": {
     "duration": 0.030407,
     "end_time": "2022-05-16T23:48:01.939343",
     "exception": false,
     "start_time": "2022-05-16T23:48:01.908936",
     "status": "completed"
    },
    "tags": []
   },
   "source": [
    "In addition to being the names of Python's two main numerical types, `int` and `float` can also be called as functions which convert their arguments to the corresponding type:"
   ]
  },
  {
   "cell_type": "code",
   "execution_count": 18,
   "id": "d165354f",
   "metadata": {
    "collapsed": true,
    "execution": {
     "iopub.execute_input": "2022-05-16T23:48:01.999726Z",
     "iopub.status.busy": "2022-05-16T23:48:01.999219Z",
     "iopub.status.idle": "2022-05-16T23:48:02.004314Z",
     "shell.execute_reply": "2022-05-16T23:48:02.003219Z"
    },
    "papermill": {
     "duration": 0.037994,
     "end_time": "2022-05-16T23:48:02.006114",
     "exception": false,
     "start_time": "2022-05-16T23:48:01.968120",
     "status": "completed"
    },
    "tags": []
   },
   "outputs": [
    {
     "name": "stdout",
     "output_type": "stream",
     "text": [
      "10.0\n",
      "3\n",
      "808\n"
     ]
    }
   ],
   "source": [
    "print(float(10))\n",
    "print(int(3.33))\n",
    "# They can even be called on strings!\n",
    "print(int('807') + 1)"
   ]
  },
  {
   "cell_type": "markdown",
   "id": "24d2985e",
   "metadata": {
    "papermill": {
     "duration": 0.028633,
     "end_time": "2022-05-16T23:48:02.065319",
     "exception": false,
     "start_time": "2022-05-16T23:48:02.036686",
     "status": "completed"
    },
    "tags": []
   },
   "source": [
    "# Your Turn\n",
    "\n",
    "Now is your chance. Try your **[first Python programming exercise](https://www.kaggle.com/kernels/fork/1275163)**!"
   ]
  },
  {
   "cell_type": "markdown",
   "id": "22780c90",
   "metadata": {
    "papermill": {
     "duration": 0.028946,
     "end_time": "2022-05-16T23:48:02.123591",
     "exception": false,
     "start_time": "2022-05-16T23:48:02.094645",
     "status": "completed"
    },
    "tags": []
   },
   "source": [
    "---\n",
    "\n",
    "\n",
    "\n",
    "\n",
    "*Have questions or comments? Visit the [course discussion forum](https://www.kaggle.com/learn/python/discussion) to chat with other learners.*"
   ]
  }
 ],
 "metadata": {
  "anaconda-cloud": {},
  "celltoolbar": "Edit Metadata",
  "kernelspec": {
   "display_name": "Python 3",
   "language": "python",
   "name": "python3"
  },
  "language_info": {
   "codemirror_mode": {
    "name": "ipython",
    "version": 3
   },
   "file_extension": ".py",
   "mimetype": "text/x-python",
   "name": "python",
   "nbconvert_exporter": "python",
   "pygments_lexer": "ipython3",
   "version": "3.7.12"
  },
  "learntools_metadata": {
   "lesson_index": 0,
   "type": "tutorial"
  },
  "papermill": {
   "default_parameters": {},
   "duration": 13.68863,
   "end_time": "2022-05-16T23:48:02.772532",
   "environment_variables": {},
   "exception": null,
   "input_path": "__notebook__.ipynb",
   "output_path": "__notebook__.ipynb",
   "parameters": {},
   "start_time": "2022-05-16T23:47:49.083902",
   "version": "2.3.4"
  }
 },
 "nbformat": 4,
 "nbformat_minor": 5
}
