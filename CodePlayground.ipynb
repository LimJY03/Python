{
 "cells": [
  {
   "cell_type": "markdown",
   "metadata": {},
   "source": [
    "Testing Print Statement"
   ]
  },
  {
   "cell_type": "code",
   "execution_count": 2,
   "metadata": {},
   "outputs": [
    {
     "name": "stdout",
     "output_type": "stream",
     "text": [
      "Hello World Hello World?\n"
     ]
    }
   ],
   "source": [
    "print('Hello World', end = ' ')\n",
    "print('Hello World?')"
   ]
  },
  {
   "cell_type": "markdown",
   "metadata": {},
   "source": [
    "Testing Logic"
   ]
  },
  {
   "cell_type": "code",
   "execution_count": 8,
   "metadata": {},
   "outputs": [
    {
     "name": "stdout",
     "output_type": "stream",
     "text": [
      "abc def ghi <code>jkl</code> mno pqr <code>stu vwx</code> yz.\n"
     ]
    }
   ],
   "source": [
    "sentence = 'abc def ghi `jkl` mno pqr `stu vwx` yz.'\n",
    "sentence = sentence.split('`')\n",
    "code_template = '<code>{}</code>'\n",
    "\n",
    "for i in range(1, len(sentence), 2):\n",
    "    sentence[i] = code_template.format(sentence[i])\n",
    "\n",
    "print(''.join(sentence))"
   ]
  },
  {
   "cell_type": "markdown",
   "metadata": {},
   "source": [
    "Convert Tabs into CSV"
   ]
  },
  {
   "cell_type": "code",
   "execution_count": 2,
   "metadata": {},
   "outputs": [
    {
     "name": "stdout",
     "output_type": "stream",
     "text": [
      "Age,Experience,Rank,Nationality,Go\n",
      "36,10,9,UK,NO\n",
      "42,12,4,USA,NO\n",
      "23,4,6,N,NO\n",
      "52,4,4,USA,NO\n",
      "43,21,8,USA,YES\n",
      "44,14,5,UK,NO\n",
      "66,3,7,N,YES\n",
      "35,14,9,UK,YES\n",
      "52,13,7,N,YES\n",
      "35,5,9,N,YES\n",
      "24,3,5,USA,NO\n",
      "18,3,7,UK,YES\n",
      "45,9,9,UK,YES\n",
      "\n"
     ]
    }
   ],
   "source": [
    "file = '''Age\tExperience\tRank\tNationality\tGo\n",
    "36\t10\t9\tUK\tNO\n",
    "42\t12\t4\tUSA\tNO\n",
    "23\t4\t6\tN\tNO\n",
    "52\t4\t4\tUSA\tNO\n",
    "43\t21\t8\tUSA\tYES\n",
    "44\t14\t5\tUK\tNO\n",
    "66\t3\t7\tN\tYES\n",
    "35\t14\t9\tUK\tYES\n",
    "52\t13\t7\tN\tYES\n",
    "35\t5\t9\tN\tYES\n",
    "24\t3\t5\tUSA\tNO\n",
    "18\t3\t7\tUK\tYES\n",
    "45\t9\t9\tUK\tYES\n",
    "'''\n",
    "\n",
    "file = file.replace('\\t', ',')\n",
    "print(file)"
   ]
  },
  {
   "cell_type": "markdown",
   "metadata": {},
   "source": [
    "Find the sum of first 500 prime numbers"
   ]
  },
  {
   "cell_type": "code",
   "execution_count": 3,
   "metadata": {},
   "outputs": [
    {
     "name": "stdout",
     "output_type": "stream",
     "text": [
      "824693\n"
     ]
    }
   ],
   "source": [
    "i = 0\n",
    "sum = 0\n",
    "thisnumber = 2\n",
    "is_prime = True\n",
    "\n",
    "while i < 500:\n",
    "    for j in range(2, thisnumber):\n",
    "        if (thisnumber % j == 0):\n",
    "            is_prime = False \n",
    "            break\n",
    "\n",
    "    if is_prime:\n",
    "        sum += thisnumber\n",
    "        i += 1\n",
    "\n",
    "    thisnumber += 1\n",
    "    is_prime = True\n",
    "\n",
    "print(sum)"
   ]
  },
  {
   "cell_type": "markdown",
   "metadata": {},
   "source": [
    "Determine pair of adjacent integers with greatest product."
   ]
  },
  {
   "cell_type": "code",
   "execution_count": 12,
   "metadata": {},
   "outputs": [
    {
     "name": "stdout",
     "output_type": "stream",
     "text": [
      "(88, 49)\n"
     ]
    }
   ],
   "source": [
    "arr = [1, 3, 155, 2, 88, 49, 73]\n",
    "print(max([(arr[i] * arr[i + 1], (arr[i], arr[i + 1])) for i in range(len(arr) - 1)])[1])"
   ]
  }
 ],
 "metadata": {
  "kernelspec": {
   "display_name": "Python 3.10.2 64-bit",
   "language": "python",
   "name": "python3"
  },
  "language_info": {
   "codemirror_mode": {
    "name": "ipython",
    "version": 3
   },
   "file_extension": ".py",
   "mimetype": "text/x-python",
   "name": "python",
   "nbconvert_exporter": "python",
   "pygments_lexer": "ipython3",
   "version": "3.10.2"
  },
  "orig_nbformat": 4,
  "vscode": {
   "interpreter": {
    "hash": "b137103d57dadb7fc55f99f6ac56353cc936b51df71f15ee539787d8cef520d9"
   }
  }
 },
 "nbformat": 4,
 "nbformat_minor": 2
}
